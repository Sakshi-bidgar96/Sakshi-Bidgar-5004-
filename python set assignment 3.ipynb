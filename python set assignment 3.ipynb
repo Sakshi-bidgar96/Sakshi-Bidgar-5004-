{
 "cells": [
  {
   "cell_type": "markdown",
   "id": "6d4b3f06-c99b-48cc-9736-59071eba6586",
   "metadata": {},
   "source": [
    "# practical Assignment 3"
   ]
  },
  {
   "cell_type": "markdown",
   "id": "cb887c58-23c5-4d77-9992-50509b63a4d1",
   "metadata": {},
   "source": [
    "# 1.\tCreate a set and display its elements"
   ]
  },
  {
   "cell_type": "code",
   "execution_count": 5,
   "id": "ada231db-a24a-4428-94ce-9140fcd31abb",
   "metadata": {},
   "outputs": [
    {
     "name": "stdout",
     "output_type": "stream",
     "text": [
      "1\n",
      "2\n",
      "3\n",
      "4\n",
      "5\n"
     ]
    }
   ],
   "source": [
    "my_set = {1, 2, 3, 4, 5}\n",
    "for element in my_set:\n",
    "    print(element)"
   ]
  },
  {
   "cell_type": "markdown",
   "id": "bd6cf189-4c1f-4f5c-a3e1-cbbfbe2781b6",
   "metadata": {},
   "source": [
    "# 2.\tAdd an element to a set"
   ]
  },
  {
   "cell_type": "code",
   "execution_count": 14,
   "id": "21c93cf6-037d-4778-af2e-c71722e7394d",
   "metadata": {},
   "outputs": [
    {
     "name": "stdout",
     "output_type": "stream",
     "text": [
      "{1, 2, 3, 4}\n"
     ]
    }
   ],
   "source": [
    "my_set = {1, 2, 3}\n",
    "my_set.add(4)\n",
    "print(my_set)"
   ]
  },
  {
   "cell_type": "markdown",
   "id": "df907674-4898-49bf-9220-95baf1a3b1bc",
   "metadata": {},
   "source": [
    "# 3. Remove an element from a set"
   ]
  },
  {
   "cell_type": "code",
   "execution_count": 17,
   "id": "13b30086-4ba0-4c07-aa1b-17b6f85fcaa1",
   "metadata": {},
   "outputs": [
    {
     "name": "stdout",
     "output_type": "stream",
     "text": [
      "{1, 3}\n"
     ]
    }
   ],
   "source": [
    "my_set = {1, 2, 3}\n",
    "my_set.remove(2)\n",
    "print(my_set)"
   ]
  },
  {
   "cell_type": "markdown",
   "id": "2da43587-0119-4720-8041-c0d497ffe168",
   "metadata": {},
   "source": [
    "# 4. Clear all elements from a set\n",
    "\n"
   ]
  },
  {
   "cell_type": "code",
   "execution_count": 20,
   "id": "6c056f6e-a628-4f8f-b65f-1d639054a29e",
   "metadata": {},
   "outputs": [
    {
     "name": "stdout",
     "output_type": "stream",
     "text": [
      "set()\n"
     ]
    }
   ],
   "source": [
    "my_set = {1, 2, 3}\n",
    "my_set.clear()\n",
    "print(my_set)"
   ]
  },
  {
   "cell_type": "markdown",
   "id": "984e4046-3161-4104-8360-40ac6c9d0922",
   "metadata": {},
   "source": [
    "# 5. Copy a set to another set"
   ]
  },
  {
   "cell_type": "code",
   "execution_count": 23,
   "id": "89616b43-9b0a-4343-96b6-e2ad297066c7",
   "metadata": {},
   "outputs": [
    {
     "name": "stdout",
     "output_type": "stream",
     "text": [
      "{1, 2, 3}\n"
     ]
    }
   ],
   "source": [
    "set1 = {1, 2, 3}\n",
    "set2 = set1.copy()\n",
    "print(set2)"
   ]
  },
  {
   "cell_type": "markdown",
   "id": "217d0394-bbf9-426b-964b-b05e7bc8f61b",
   "metadata": {},
   "source": [
    "# 6. Check if an element exists in a set\n",
    "\n"
   ]
  },
  {
   "cell_type": "code",
   "execution_count": 26,
   "id": "eb483434-6c7b-4a92-ab38-c672bd2c732f",
   "metadata": {},
   "outputs": [
    {
     "name": "stdout",
     "output_type": "stream",
     "text": [
      "True\n"
     ]
    }
   ],
   "source": [
    "my_set = {1, 2, 3}\n",
    "print(2 in my_set)"
   ]
  },
  {
   "cell_type": "markdown",
   "id": "d3bd00f8-008a-4417-afa1-9911a4c917d7",
   "metadata": {},
   "source": [
    "# 7. Find the length of a set"
   ]
  },
  {
   "cell_type": "code",
   "execution_count": 29,
   "id": "ba31e193-8d03-473e-a468-c83b8600ecf8",
   "metadata": {},
   "outputs": [
    {
     "name": "stdout",
     "output_type": "stream",
     "text": [
      "3\n"
     ]
    }
   ],
   "source": [
    "my_set = {1, 2, 3}\n",
    "print(len(my_set))"
   ]
  },
  {
   "cell_type": "markdown",
   "id": "2952f663-fa9d-442d-9b9f-309845378b09",
   "metadata": {},
   "source": [
    "# 8. Iterate through a set using a loop"
   ]
  },
  {
   "cell_type": "code",
   "execution_count": 32,
   "id": "794af031-7099-4e41-8d66-b6511a1575c1",
   "metadata": {},
   "outputs": [
    {
     "name": "stdout",
     "output_type": "stream",
     "text": [
      "1\n",
      "2\n",
      "3\n"
     ]
    }
   ],
   "source": [
    "my_set = {1, 2, 3}\n",
    "for item in my_set:\n",
    "    print(item)"
   ]
  },
  {
   "cell_type": "markdown",
   "id": "d9291779-067b-470f-9266-339d08f26421",
   "metadata": {},
   "source": [
    "# 9. Find the union of two sets"
   ]
  },
  {
   "cell_type": "code",
   "execution_count": 35,
   "id": "1890cc01-0844-4598-b208-a08ff48772f7",
   "metadata": {},
   "outputs": [
    {
     "name": "stdout",
     "output_type": "stream",
     "text": [
      "{1, 2, 3, 4, 5}\n"
     ]
    }
   ],
   "source": [
    "a = {1, 2, 3}\n",
    "b = {3, 4, 5}\n",
    "print(a.union(b))"
   ]
  },
  {
   "cell_type": "markdown",
   "id": "66561138-9f15-4f71-a71c-f33d3f10d8f1",
   "metadata": {},
   "source": [
    "# 10. Find the intersection of two sets\n",
    "\n"
   ]
  },
  {
   "cell_type": "code",
   "execution_count": 38,
   "id": "2832a3a7-b948-4b1c-9da0-fe7a6861bc3a",
   "metadata": {},
   "outputs": [
    {
     "name": "stdout",
     "output_type": "stream",
     "text": [
      "{2, 3}\n"
     ]
    }
   ],
   "source": [
    "a = {1, 2, 3}\n",
    "b = {2, 3, 4}\n",
    "print(a.intersection(b))"
   ]
  },
  {
   "cell_type": "markdown",
   "id": "32a0bc5b-c023-45d6-aed3-665357aac7a4",
   "metadata": {},
   "source": [
    "# 11. Find the difference between two sets"
   ]
  },
  {
   "cell_type": "code",
   "execution_count": 41,
   "id": "c3de2ed0-8521-43c9-86d1-7cabe5b2c4b4",
   "metadata": {},
   "outputs": [
    {
     "name": "stdout",
     "output_type": "stream",
     "text": [
      "{1}\n"
     ]
    }
   ],
   "source": [
    "a = {1, 2, 3}\n",
    "b = {2, 3, 4}\n",
    "print(a.difference(b))"
   ]
  },
  {
   "cell_type": "markdown",
   "id": "6d87c790-56e4-45c4-a9fe-8f6b0cd57574",
   "metadata": {},
   "source": [
    "# 12. Find the symmetric difference between two sets"
   ]
  },
  {
   "cell_type": "code",
   "execution_count": 44,
   "id": "5be5746d-cf23-4641-a770-e2ecb309c620",
   "metadata": {},
   "outputs": [
    {
     "name": "stdout",
     "output_type": "stream",
     "text": [
      "{1, 4}\n"
     ]
    }
   ],
   "source": [
    "a = {1, 2, 3}\n",
    "b = {2, 3, 4}\n",
    "print(a.symmetric_difference(b))"
   ]
  },
  {
   "cell_type": "markdown",
   "id": "65caae9d-c357-48f7-98ce-4778c479868a",
   "metadata": {},
   "source": [
    "# 13. Check if one set is a subset of another\n",
    "\n"
   ]
  },
  {
   "cell_type": "code",
   "execution_count": 47,
   "id": "781eefd1-ce30-4667-a7d3-a7e0c994df5f",
   "metadata": {},
   "outputs": [
    {
     "name": "stdout",
     "output_type": "stream",
     "text": [
      "True\n"
     ]
    }
   ],
   "source": [
    "a = {1, 2}\n",
    "b = {1, 2, 3}\n",
    "print(a.issubset(b))"
   ]
  },
  {
   "cell_type": "markdown",
   "id": "e61d4eeb-a7e0-40ce-a294-d93796b2d785",
   "metadata": {},
   "source": [
    "# 14. Check if one set is a superset of another"
   ]
  },
  {
   "cell_type": "code",
   "execution_count": 50,
   "id": "5d527d8f-13f5-45e5-abb8-ca508a730eee",
   "metadata": {},
   "outputs": [
    {
     "name": "stdout",
     "output_type": "stream",
     "text": [
      "True\n"
     ]
    }
   ],
   "source": [
    "a = {1, 2, 3}\n",
    "b = {1, 2}\n",
    "print(a.issuperset(b))"
   ]
  },
  {
   "cell_type": "markdown",
   "id": "0ddf5363-bc55-470c-a423-a206c71899d6",
   "metadata": {},
   "source": [
    "# 15. Check if two sets are disjoint"
   ]
  },
  {
   "cell_type": "code",
   "execution_count": 53,
   "id": "a686648f-4e3a-4e94-a835-5f21d513d0af",
   "metadata": {},
   "outputs": [
    {
     "name": "stdout",
     "output_type": "stream",
     "text": [
      "True\n"
     ]
    }
   ],
   "source": [
    "a = {1, 2}\n",
    "b = {3, 4}\n",
    "print(a.isdisjoint(b))"
   ]
  },
  {
   "cell_type": "markdown",
   "id": "bc204819-2ac7-4cfc-bda8-a3a7f2897c50",
   "metadata": {},
   "source": [
    "# 16. Remove duplicates from a list using a set"
   ]
  },
  {
   "cell_type": "code",
   "execution_count": 56,
   "id": "e7093aab-2a66-46e8-8540-654ab6a3c5bc",
   "metadata": {},
   "outputs": [
    {
     "name": "stdout",
     "output_type": "stream",
     "text": [
      "[1, 2, 3, 4]\n"
     ]
    }
   ],
   "source": [
    "my_list = [1, 2, 2, 3, 4, 4]\n",
    "unique = list(set(my_list))\n",
    "print(unique)"
   ]
  },
  {
   "cell_type": "markdown",
   "id": "cbeae2c9-4364-412a-93c0-d66f35c6c959",
   "metadata": {},
   "source": [
    "# 17. Convert a list to a set and back to a list"
   ]
  },
  {
   "cell_type": "code",
   "execution_count": 59,
   "id": "d591662c-ca6c-4591-b973-c563dfafde8f",
   "metadata": {},
   "outputs": [
    {
     "name": "stdout",
     "output_type": "stream",
     "text": [
      "[1, 2, 3]\n"
     ]
    }
   ],
   "source": [
    "my_list = [1, 2, 2, 3]\n",
    "my_set = set(my_list)\n",
    "new_list = list(my_set)\n",
    "print(new_list)"
   ]
  },
  {
   "cell_type": "markdown",
   "id": "217c67e1-c6e9-42ce-bc6a-c54f19eb4440",
   "metadata": {},
   "source": [
    "# 18. Find common elements in two lists using sets\n",
    "\n"
   ]
  },
  {
   "cell_type": "code",
   "execution_count": 62,
   "id": "85a5f36e-aae7-4cf7-ae54-fbee7e4e6a65",
   "metadata": {},
   "outputs": [
    {
     "name": "stdout",
     "output_type": "stream",
     "text": [
      "{2, 3}\n"
     ]
    }
   ],
   "source": [
    "a = [1, 2, 3]\n",
    "b = [2, 3, 4]\n",
    "print(set(a) & set(b))"
   ]
  },
  {
   "cell_type": "markdown",
   "id": "719d7c72-ec4f-4687-983e-46859043098a",
   "metadata": {},
   "source": [
    "# 19. Get elements in one list but not in another using sets"
   ]
  },
  {
   "cell_type": "code",
   "execution_count": 65,
   "id": "1440e214-9ce2-4883-9d2d-38aabf6ca5d5",
   "metadata": {},
   "outputs": [
    {
     "name": "stdout",
     "output_type": "stream",
     "text": [
      "{1}\n"
     ]
    }
   ],
   "source": [
    "a = [1, 2, 3]\n",
    "b = [2, 3, 4]\n",
    "print(set(a) - set(b))"
   ]
  },
  {
   "cell_type": "markdown",
   "id": "83921a88-9cd6-41c9-bb74-c38310900f3a",
   "metadata": {},
   "source": [
    "# 20. Use set comprehension to generate a set"
   ]
  },
  {
   "cell_type": "code",
   "execution_count": 68,
   "id": "202209ac-2883-4805-a534-816439d5dc72",
   "metadata": {},
   "outputs": [
    {
     "name": "stdout",
     "output_type": "stream",
     "text": [
      "{1, 4, 9, 16, 25}\n"
     ]
    }
   ],
   "source": [
    "squares = {x * x for x in range(1, 6)}\n",
    "print(squares)\n"
   ]
  },
  {
   "cell_type": "markdown",
   "id": "ec20c7bb-10c8-4417-b0a0-d7f0e1499b87",
   "metadata": {},
   "source": [
    "# 21. Create and print a frozenset"
   ]
  },
  {
   "cell_type": "code",
   "execution_count": 71,
   "id": "4ccdc8df-3249-4c1f-8c18-06da0aa90e13",
   "metadata": {},
   "outputs": [
    {
     "name": "stdout",
     "output_type": "stream",
     "text": [
      "frozenset({1, 2, 3, 4})\n"
     ]
    }
   ],
   "source": [
    "fs = frozenset([1, 2, 3, 4])\n",
    "print(fs)"
   ]
  },
  {
   "cell_type": "code",
   "execution_count": null,
   "id": "46e0eb15-f5ae-46dc-bc69-339193805cfc",
   "metadata": {},
   "outputs": [],
   "source": []
  }
 ],
 "metadata": {
  "kernelspec": {
   "display_name": "Python [conda env:base] *",
   "language": "python",
   "name": "conda-base-py"
  },
  "language_info": {
   "codemirror_mode": {
    "name": "ipython",
    "version": 3
   },
   "file_extension": ".py",
   "mimetype": "text/x-python",
   "name": "python",
   "nbconvert_exporter": "python",
   "pygments_lexer": "ipython3",
   "version": "3.12.7"
  }
 },
 "nbformat": 4,
 "nbformat_minor": 5
}
