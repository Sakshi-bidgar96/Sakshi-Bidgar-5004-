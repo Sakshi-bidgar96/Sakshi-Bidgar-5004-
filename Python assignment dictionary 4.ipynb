{
 "cells": [
  {
   "cell_type": "markdown",
   "id": "3e506b94-797a-48dd-80fb-d5dd316c653f",
   "metadata": {},
   "source": [
    "# practical assignment 4"
   ]
  },
  {
   "cell_type": "markdown",
   "id": "24912bc4-dccb-4286-a7f4-e19aa73505a0",
   "metadata": {},
   "source": [
    "# 1. Write a Python program to create a dictionary from user input. \n",
    "# Input: Enter key-value pairs (e.g. name,Alice age,22 course,CS) \n",
    "# Expected Output: {'name': 'Alice', 'age': '22', 'course': 'CS'}"
   ]
  },
  {
   "cell_type": "code",
   "execution_count": 3,
   "id": "fb0db389-45aa-4108-b1ee-7dfe4c032af9",
   "metadata": {},
   "outputs": [
    {
     "name": "stdout",
     "output_type": "stream",
     "text": [
      "{'student1': {'name': 'Alice', 'age': 22, 'course': 'CS'}}\n"
     ]
    }
   ],
   "source": [
    "\n",
    "student = {\n",
    "  \"student1\" : {\n",
    "    \"name\" : \"Alice\",\n",
    "    \"age\" : 22 ,\n",
    "    \"course\" : \"CS\"\n",
    " \n",
    "  }\n",
    "}\n",
    "print(student)"
   ]
  },
  {
   "cell_type": "markdown",
   "id": "aeae04f3-413c-4913-92c3-284adcf12299",
   "metadata": {},
   "source": [
    "# 2. Write a Python program to count the frequency of each character in a string using a dictionary. \n",
    "# Input: banana \n",
    "# Expected Output: {'b': 1, 'a': 3, 'n': 2}"
   ]
  },
  {
   "cell_type": "code",
   "execution_count": 21,
   "id": "6f26a3e8-ab5d-4780-8dcd-0fd048cac366",
   "metadata": {},
   "outputs": [
    {
     "name": "stdin",
     "output_type": "stream",
     "text": [
      "Enter a string:  banana\n"
     ]
    },
    {
     "name": "stdout",
     "output_type": "stream",
     "text": [
      "{'b': 1, 'a': 3, 'n': 2}\n"
     ]
    }
   ],
   "source": [
    "text = input(\"Enter a string: \")\n",
    "char_freq = {}\n",
    "\n",
    "for char in text:\n",
    "    if char in char_freq:\n",
    "        char_freq[char] += 1\n",
    "    else:\n",
    "        char_freq[char] = 1\n",
    "\n",
    "print(char_freq)\n"
   ]
  },
  {
   "cell_type": "markdown",
   "id": "517f7365-1c0b-4945-a7a8-d6044d0e8b72",
   "metadata": {},
   "source": [
    "# 3. Write a Python program to merge two dictionaries. If a key exists in both, keep the second's value. \n",
    "# Input:     dict1 = {'a': 1, 'b': 2}   dict2 = {'b': 3, 'c': 4} \n",
    " \n",
    "# Expected Output:   {'a': 1, 'b': 3, 'c': 4}"
   ]
  },
  {
   "cell_type": "code",
   "execution_count": 23,
   "id": "7bae7f5d-7db3-44ef-b29f-74fe6f48572f",
   "metadata": {},
   "outputs": [
    {
     "name": "stdout",
     "output_type": "stream",
     "text": [
      "{'a': 1, 'b': 3, 'c': 4}\n"
     ]
    }
   ],
   "source": [
    "dict1 = {'a': 1, 'b': 2}\n",
    "dict2 = {'b': 3, 'c': 4}\n",
    "\n",
    "merged_dict = dict1.copy()\n",
    "merged_dict.update(dict2)\n",
    "\n",
    "print(merged_dict)\n"
   ]
  },
  {
   "cell_type": "markdown",
   "id": "ffe4cf09-31dd-4d60-859a-2754016e5f5e",
   "metadata": {},
   "source": [
    "# 4. Write a Python program to print the key with maximum and minimum values from a dictionary. \n",
    "# Input: marks = {'Math': 88, 'Science': 90, 'English': 76} \n",
    "# Expected Output: Maximum: Science -> 90  Minimum: English -> 76 "
   ]
  },
  {
   "cell_type": "code",
   "execution_count": 25,
   "id": "da870508-e677-4f37-8ba9-ff14f8401d52",
   "metadata": {},
   "outputs": [
    {
     "name": "stdin",
     "output_type": "stream",
     "text": [
      "How many subjects?  3\n",
      "Enter subject name:  math\n",
      "Enter marks:  88\n",
      "Enter subject name:  science\n",
      "Enter marks:  90\n",
      "Enter subject name:  english\n",
      "Enter marks:  76\n"
     ]
    },
    {
     "name": "stdout",
     "output_type": "stream",
     "text": [
      "Maximum: science -> 90\n",
      "Minimum: english -> 76\n"
     ]
    }
   ],
   "source": [
    "num_items = int(input(\"How many subjects? \"))\n",
    "marks = {}\n",
    "\n",
    "for _ in range(num_items):\n",
    "    subject = input(\"Enter subject name: \")\n",
    "    score = int(input(\"Enter marks: \"))\n",
    "    marks[subject] = score\n",
    "\n",
    "max_key = max(marks, key=marks.get)\n",
    "min_key = min(marks, key=marks.get)\n",
    "\n",
    "print(\"Maximum:\", max_key, \"->\", marks[max_key])\n",
    "print(\"Minimum:\", min_key, \"->\", marks[min_key])\n"
   ]
  },
  {
   "cell_type": "markdown",
   "id": "347c6d4c-5764-431f-bbe8-176dfd2292ea",
   "metadata": {},
   "source": [
    "# 5. Write a Python program to add a new key to a dictionary only if it doesn’t already exist. \n",
    "# Input:   person = {'name': 'John', 'age': 25}    Add key = gender, value = Male \n",
    " \n",
    "# Expected Output: {'name': 'John', 'age': 25, 'gender': 'Male'}"
   ]
  },
  {
   "cell_type": "code",
   "execution_count": 27,
   "id": "db13b37e-f337-41c0-91ba-ce264a9b1987",
   "metadata": {},
   "outputs": [
    {
     "name": "stdin",
     "output_type": "stream",
     "text": [
      "How many key-value pairs to add initially?  2\n",
      "Enter key:  namw\n",
      "Enter value:  john\n",
      "Enter key:  age\n",
      "Enter value:  25\n",
      "Enter new key to add:  gender\n",
      "Enter value for the new key:  male\n"
     ]
    },
    {
     "name": "stdout",
     "output_type": "stream",
     "text": [
      "Updated dictionary: {'namw': 'john', 'age': '25', 'gender': 'male'}\n"
     ]
    }
   ],
   "source": [
    "person = {}\n",
    "n = int(input(\"How many key-value pairs to add initially? \"))\n",
    "for _ in range(n):\n",
    "    key = input(\"Enter key: \")\n",
    "    value = input(\"Enter value: \")\n",
    "    person[key] = value\n",
    "\n",
    "new_key = input(\"Enter new key to add: \")\n",
    "new_value = input(\"Enter value for the new key: \")\n",
    "\n",
    "if new_key not in person:\n",
    "    person[new_key] = new_value\n",
    "\n",
    "print(\"Updated dictionary:\", person)\n"
   ]
  },
  {
   "cell_type": "markdown",
   "id": "4536712f-1588-4c44-9914-b14c1936cdc1",
   "metadata": {},
   "source": [
    "# 6. Write a Python program to convert two lists into a dictionary. \n",
    "# Input:    keys = ['id', 'name', 'age']   values = [101, 'Ravi', 20] \n",
    "# Expected Output:  {'id': 101, 'name': 'Ravi', 'age': 20}"
   ]
  },
  {
   "cell_type": "code",
   "execution_count": 29,
   "id": "133619ab-eb8c-4e6b-8d74-a39d72d8c443",
   "metadata": {},
   "outputs": [
    {
     "name": "stdin",
     "output_type": "stream",
     "text": [
      "Enter keys separated by commas:  id,name,age\n",
      "Enter values separated by commas:  101,ravi,22\n"
     ]
    },
    {
     "name": "stdout",
     "output_type": "stream",
     "text": [
      "Dictionary: {'id': 101, 'name': 'ravi', 'age': 22}\n"
     ]
    }
   ],
   "source": [
    "keys = input(\"Enter keys separated by commas: \").split(',')\n",
    "values = input(\"Enter values separated by commas: \").split(',')\n",
    "converted_values = [int(v) if v.isdigit() else v for v in values]\n",
    "result = dict(zip(keys, converted_values))\n",
    "\n",
    "print(\"Dictionary:\", result)\n"
   ]
  },
  {
   "cell_type": "markdown",
   "id": "adc1dd4b-ea16-4510-8466-ef1089de42ed",
   "metadata": {},
   "source": [
    "# 7. Write a Python program to sort a dictionary by its values in ascending order. \n",
    "# Input: data = {'x': 3, 'y': 1, 'z': 2} \n",
    "# Expected Output: {'y': 1, 'z': 2, 'x': 3}"
   ]
  },
  {
   "cell_type": "code",
   "execution_count": 31,
   "id": "e7863171-21e5-4d22-918d-6536d120228c",
   "metadata": {},
   "outputs": [
    {
     "name": "stdin",
     "output_type": "stream",
     "text": [
      "How many items?  3\n",
      "Enter key:  x\n",
      "Enter value:  3\n",
      "Enter key:  y\n",
      "Enter value:  1\n",
      "Enter key:  z\n",
      "Enter value:  2\n"
     ]
    },
    {
     "name": "stdout",
     "output_type": "stream",
     "text": [
      "Sorted dictionary: {'y': 1, 'z': 2, 'x': 3}\n"
     ]
    }
   ],
   "source": [
    "data = {}\n",
    "n = int(input(\"How many items? \"))\n",
    "for _ in range(n):\n",
    "    key = input(\"Enter key: \")\n",
    "    value = int(input(\"Enter value: \"))\n",
    "    data[key] = value\n",
    "sorted_data = dict(sorted(data.items(), key=lambda item: item[1]))\n",
    "\n",
    "print(\"Sorted dictionary:\", sorted_data)\n"
   ]
  },
  {
   "cell_type": "markdown",
   "id": "f5cd761e-8ee6-425c-ae8f-6bf58ea6ee2a",
   "metadata": {},
   "source": [
    "# 8. Write a Python program to delete a specified key from a dictionary. \n",
    "# Input:  d = {'a': 1, 'b': 2, 'c': 3}   Delete key = b \n",
    "# Expected Output: {'a': 1, 'c': 3}"
   ]
  },
  {
   "cell_type": "code",
   "execution_count": 33,
   "id": "e77316ba-e13c-4f30-80c3-b892af5b184e",
   "metadata": {},
   "outputs": [
    {
     "name": "stdin",
     "output_type": "stream",
     "text": [
      "How many key-value pairs?  3\n",
      "Enter key:  a\n",
      "Enter value:  1\n",
      "Enter key:  b\n",
      "Enter value:  2\n",
      "Enter key:  c\n",
      "Enter value:  3\n",
      "Enter the key to delete: b\n"
     ]
    },
    {
     "name": "stdout",
     "output_type": "stream",
     "text": [
      "Updated dictionary: {'a': 1, 'c': 3}\n"
     ]
    }
   ],
   "source": [
    "d = {}\n",
    "n = int(input(\"How many key-value pairs? \"))\n",
    "for _ in range(n):\n",
    "    key = input(\"Enter key: \")\n",
    "    value = int(input(\"Enter value: \"))\n",
    "    d[key] = value\n",
    "\n",
    "del_key = input(\"Enter the key to delete:\")\n",
    "\n",
    "if del_key in d:\n",
    "    del d[del_key]\n",
    "else:\n",
    "    print(\"Key not found!\")\n",
    "\n",
    "print(\"Updated dictionary:\", d)\n"
   ]
  },
  {
   "cell_type": "markdown",
   "id": "4d839a31-6574-4255-9137-0f8185df13e5",
   "metadata": {},
   "source": [
    "# 9. Write a Python program to count frequency of each word using a dictionary. \n",
    "# Input: python is easy and python is fun \n",
    "# Expected Output: {'python': 2, 'is': 2, 'easy': 1, 'and': 1, 'fun': 1}"
   ]
  },
  {
   "cell_type": "code",
   "execution_count": 35,
   "id": "2e1cf8d1-a4c1-4ba3-b6b5-9afe1c448241",
   "metadata": {},
   "outputs": [
    {
     "name": "stdin",
     "output_type": "stream",
     "text": [
      "Enter a sentence:  my name is sanskar\n"
     ]
    },
    {
     "name": "stdout",
     "output_type": "stream",
     "text": [
      "Word frequency: {'my': 1, 'name': 1, 'is': 1, 'sanskar': 1}\n"
     ]
    }
   ],
   "source": [
    "text = input(\"Enter a sentence: \")\n",
    "words = text.split()\n",
    "word_freq = {}\n",
    "\n",
    "for word in words:\n",
    "    if word in word_freq:\n",
    "        word_freq[word] += 1\n",
    "    else:\n",
    "        word_freq[word] = 1\n",
    "\n",
    "print(\"Word frequency:\", word_freq)\n"
   ]
  },
  {
   "cell_type": "markdown",
   "id": "05008b67-c219-488f-9704-9ec39af48c11",
   "metadata": {},
   "source": [
    "# 10. Write a Python program to swap keys and values in a dictionary. \n",
    "# Input: original = {'one': 1, 'two': 2, 'three': 3} \n",
    "# Expected Output: {1: 'one', 2: 'two', 3: 'three'}"
   ]
  },
  {
   "cell_type": "code",
   "execution_count": 37,
   "id": "2c3f9fa6-55b5-451c-a30e-e985534a35b4",
   "metadata": {},
   "outputs": [
    {
     "name": "stdin",
     "output_type": "stream",
     "text": [
      "How many key-value pairs?  3\n",
      "Enter key:  one\n",
      "Enter value:  1\n",
      "Enter key:  two\n",
      "Enter value:  2\n",
      "Enter key:  three\n",
      "Enter value:  3\n"
     ]
    },
    {
     "name": "stdout",
     "output_type": "stream",
     "text": [
      "Swapped dictionary: {'1': 'one', '2': 'two', '3': 'three'}\n"
     ]
    }
   ],
   "source": [
    "original = {}\n",
    "n = int(input(\"How many key-value pairs? \"))\n",
    "for _ in range(n):\n",
    "    key = input(\"Enter key: \")\n",
    "    value = input(\"Enter value: \")\n",
    "    original[key] = value\n",
    "swapped = {value: key for key, value in original.items()}\n",
    "\n",
    "print(\"Swapped dictionary:\", swapped)\n"
   ]
  },
  {
   "cell_type": "code",
   "execution_count": null,
   "id": "71ba537a-3e8f-47e4-8d75-5bfaef03c921",
   "metadata": {},
   "outputs": [],
   "source": []
  }
 ],
 "metadata": {
  "kernelspec": {
   "display_name": "Python [conda env:base] *",
   "language": "python",
   "name": "conda-base-py"
  },
  "language_info": {
   "codemirror_mode": {
    "name": "ipython",
    "version": 3
   },
   "file_extension": ".py",
   "mimetype": "text/x-python",
   "name": "python",
   "nbconvert_exporter": "python",
   "pygments_lexer": "ipython3",
   "version": "3.12.7"
  }
 },
 "nbformat": 4,
 "nbformat_minor": 5
}
