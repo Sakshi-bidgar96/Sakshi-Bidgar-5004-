{
 "cells": [
  {
   "cell_type": "code",
   "execution_count": 1,
   "id": "bc44cafd-7f79-4ddb-b363-3792d0995cdd",
   "metadata": {},
   "outputs": [
    {
     "name": "stdout",
     "output_type": "stream",
     "text": [
      "Hello World\n"
     ]
    }
   ],
   "source": [
    "def greetings():\n",
    "   \"This is docstring of greetings function\"\n",
    "   print(\"Hello World\")\n",
    "   return;\n",
    "greetings()    "
   ]
  },
  {
   "cell_type": "code",
   "execution_count": 2,
   "id": "273c20c0-0347-4abb-aba2-885b3e5dea0d",
   "metadata": {},
   "outputs": [
    {
     "name": "stdout",
     "output_type": "stream",
     "text": [
      "I'm first call to user defined function!\n",
      "Again second call to the same function\n"
     ]
    }
   ],
   "source": [
    "def printme( str ):\n",
    "   \"This prints a passed string into this function\"\n",
    "   print (str)\n",
    "   return;\n",
    "\n",
    "\n",
    "printme(\"I'm first call to user defined function!\")\n",
    "printme(\"Again second call to the same function\")"
   ]
  },
  {
   "cell_type": "code",
   "execution_count": 4,
   "id": "40e7d789-61ed-4d70-83fa-240f741f3237",
   "metadata": {},
   "outputs": [
    {
     "name": "stdout",
     "output_type": "stream",
     "text": [
      "Hello Sakshi\n",
      "Hello smith\n",
      "Hello marsh\n"
     ]
    }
   ],
   "source": [
    "def greetings(name):\n",
    "   \"This is docstring of greetings function\"\n",
    "   print (\"Hello {}\".format(name))\n",
    "   return\n",
    "   \n",
    "greetings(\"Sakshi\")\n",
    "greetings(\"smith\")\n",
    "greetings(\"marsh\")"
   ]
  },
  {
   "cell_type": "code",
   "execution_count": 5,
   "id": "efb4b49c-3df7-492f-a665-8fda2657cd75",
   "metadata": {},
   "outputs": [
    {
     "name": "stdout",
     "output_type": "stream",
     "text": [
      "ID before passing: 2041317525232\n",
      "ID inside the function: 2041317525232\n"
     ]
    }
   ],
   "source": [
    " def testfunction(arg):\n",
    "   print (\"ID inside the function:\", id(arg))\n",
    "\n",
    "var = \"Hello\"\n",
    "print (\"ID before passing:\", id(var))\n",
    "testfunction(var)"
   ]
  },
  {
   "cell_type": "code",
   "execution_count": 6,
   "id": "2d3f8a4b-b1ed-4f99-a41f-bae97e8253d3",
   "metadata": {},
   "outputs": [
    {
     "name": "stdout",
     "output_type": "stream",
     "text": [
      "ID before passing: 140726088510168\n",
      "ID inside the function: 140726088510168\n",
      "new object after increment 11 140726088510200\n",
      "value after function call 10\n"
     ]
    }
   ],
   "source": [
    "def testfunction(arg):\n",
    "   print (\"ID inside the function:\", id(arg))\n",
    "   arg = arg + 1\n",
    "   print (\"new object after increment\", arg, id(arg))\n",
    "\n",
    "var=10\n",
    "print (\"ID before passing:\", id(var))\n",
    "testfunction(var)\n",
    "print (\"value after function call\", var)"
   ]
  },
  {
   "cell_type": "code",
   "execution_count": 7,
   "id": "fc631056-e119-4085-9ef1-d53bc0913dfe",
   "metadata": {},
   "outputs": [
    {
     "name": "stdout",
     "output_type": "stream",
     "text": [
      "<class 'str'>\n"
     ]
    }
   ],
   "source": [
    "def printme( str ):\n",
    "   \"This prints a passed string into this function\"\n",
    "   print (str)\n",
    "   return;\n",
    "\n",
    "printme(str)"
   ]
  },
  {
   "cell_type": "code",
   "execution_count": 8,
   "id": "5ad13290-e023-4a67-8293-30e05345aa81",
   "metadata": {},
   "outputs": [
    {
     "name": "stdout",
     "output_type": "stream",
     "text": [
      "Name:  marsh\n",
      "Age  50\n"
     ]
    }
   ],
   "source": [
    "def printinfo( name, age ):\n",
    "   \"This prints a passed info into this function\"\n",
    "   print (\"Name: \", name)\n",
    "   print (\"Age \", age)\n",
    "   return;\n",
    "\n",
    "printinfo( age=50, name=\"marsh\" )"
   ]
  },
  {
   "cell_type": "code",
   "execution_count": 9,
   "id": "2d7e37c9-d376-4681-9b7c-b6e924a3d0be",
   "metadata": {},
   "outputs": [
    {
     "name": "stdout",
     "output_type": "stream",
     "text": [
      "Evaluating positional-only arguments: \n",
      "66\n"
     ]
    }
   ],
   "source": [
    "def posFun(x, y, /, z):\n",
    "    print(x + y + z)\n",
    "\n",
    "print(\"Evaluating positional-only arguments: \")\n",
    "posFun(33, 22, z=11) "
   ]
  },
  {
   "cell_type": "code",
   "execution_count": 10,
   "id": "1876c689-a1d9-4f09-8a87-65370068f81a",
   "metadata": {},
   "outputs": [
    {
     "name": "stdout",
     "output_type": "stream",
     "text": [
      "Evaluating keyword-only arguments: \n",
      "240\n"
     ]
    }
   ],
   "source": [
    "def posFun(*, num1, num2, num3):\n",
    "    print(num1 * num2 * num3)\n",
    "\n",
    "print(\"Evaluating keyword-only arguments: \")\n",
    "posFun(num3=6, num2=8, num1=5) "
   ]
  },
  {
   "cell_type": "code",
   "execution_count": 12,
   "id": "fe01c55b-fcdc-46d0-8377-f4cb8a8cffed",
   "metadata": {},
   "outputs": [
    {
     "ename": "SyntaxError",
     "evalue": "invalid syntax (2590642321.py, line 1)",
     "output_type": "error",
     "traceback": [
      "\u001b[1;36m  Cell \u001b[1;32mIn[12], line 1\u001b[1;36m\u001b[0m\n\u001b[1;33m    def functionname([formal_args,] *var_args_tuple ):\u001b[0m\n\u001b[1;37m                     ^\u001b[0m\n\u001b[1;31mSyntaxError\u001b[0m\u001b[1;31m:\u001b[0m invalid syntax\n"
     ]
    }
   ],
   "source": [
    "def functionname([formal_args,] *var_args_tuple ):\n",
    "   \"function_docstring\"\n",
    "   function_suite\n",
    "   return [expression]"
   ]
  },
  {
   "cell_type": "code",
   "execution_count": 13,
   "id": "b210ebd9-83b3-4f2e-90b3-6b340d905c91",
   "metadata": {},
   "outputs": [
    {
     "name": "stdout",
     "output_type": "stream",
     "text": [
      "Output is: \n",
      "10\n",
      "Output is: \n",
      "70\n",
      "60\n",
      "50\n"
     ]
    }
   ],
   "source": [
    "def printinfo( arg1, *vartuple ):\n",
    "   \"This prints a variable passed arguments\"\n",
    "   print (\"Output is: \")\n",
    "   print (arg1)\n",
    "   for var in vartuple:\n",
    "      print (var)\n",
    "   return;\n",
    "printinfo( 10 )\n",
    "printinfo( 70, 60, 50 )"
   ]
  },
  {
   "cell_type": "code",
   "execution_count": 14,
   "id": "40f143a4-825a-46cc-b4ab-991a0fc880fb",
   "metadata": {},
   "outputs": [
    {
     "name": "stdout",
     "output_type": "stream",
     "text": [
      "a = 10 b = 20 a+b = 30\n"
     ]
    }
   ],
   "source": [
    "def add(x,y):\n",
    "   z=x+y\n",
    "   return z\n",
    "a=10\n",
    "b=20\n",
    "result = add(a,b)\n",
    "print (\"a = {} b = {} a+b = {}\".format(a, b, result))"
   ]
  },
  {
   "cell_type": "code",
   "execution_count": 15,
   "id": "a2699cd4-a095-4b4f-bcbf-8df16b1d57b1",
   "metadata": {},
   "outputs": [
    {
     "name": "stdout",
     "output_type": "stream",
     "text": [
      "Value of total :  30\n",
      "Value of total :  40\n"
     ]
    }
   ],
   "source": [
    "sum = lambda arg1, arg2: arg1 + arg2;\n",
    "print (\"Value of total : \", sum( 10, 20 ))\n",
    "print (\"Value of total : \", sum( 20, 20 ))"
   ]
  },
  {
   "cell_type": "code",
   "execution_count": 16,
   "id": "5b588f0f-c287-4400-bb1e-4849853d999e",
   "metadata": {},
   "outputs": [
    {
     "name": "stdout",
     "output_type": "stream",
     "text": [
      "Inside the function local total :  30\n",
      "Outside the function global total :  0\n"
     ]
    }
   ],
   "source": [
    "total = 0; \n",
    "def sum( arg1, arg2 ):\n",
    "   total = arg1 + arg2; \n",
    "   print (\"Inside the function local total : \", total)\n",
    "   return total;\n",
    "sum( 10, 20 );\n",
    "print (\"Outside the function global total : \", total) "
   ]
  },
  {
   "cell_type": "code",
   "execution_count": null,
   "id": "a73bf8f2-0470-43e0-a038-11e5c04deae0",
   "metadata": {},
   "outputs": [],
   "source": []
  }
 ],
 "metadata": {
  "kernelspec": {
   "display_name": "Python 3 (ipykernel)",
   "language": "python",
   "name": "python3"
  },
  "language_info": {
   "codemirror_mode": {
    "name": "ipython",
    "version": 3
   },
   "file_extension": ".py",
   "mimetype": "text/x-python",
   "name": "python",
   "nbconvert_exporter": "python",
   "pygments_lexer": "ipython3",
   "version": "3.12.7"
  }
 },
 "nbformat": 4,
 "nbformat_minor": 5
}
